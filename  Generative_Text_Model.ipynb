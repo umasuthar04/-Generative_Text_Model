{
 "cells": [
  {
   "cell_type": "code",
   "execution_count": 3,
   "id": "6fa1fb01-5668-413e-95d5-00667fb95a87",
   "metadata": {},
   "outputs": [
    {
     "name": "stdout",
     "output_type": "stream",
     "text": [
      "🧠 Generated text on prompt 'Technology is':\n",
      "Technology is changing the way we live industries industries societies societies societies\n",
      "\n",
      "🌿 Generated text on prompt 'Nature is':\n",
      "Nature is a beautiful part of earth revolutionizing industries revolutionizing revolutionizing industries\n",
      "\n",
      "📚 Generated text on prompt 'Education helps':\n",
      "Education helps individuals and helps build societies balance balance industries industries societies\n"
     ]
    }
   ],
   "source": [
    "# 📘 Simple LSTM Text Generation Model in Jupyter\n",
    "# Make sure to install dependencies if running for the first time\n",
    "# !pip install tensorflow\n",
    "\n",
    "import numpy as np\n",
    "import tensorflow as tf\n",
    "from tensorflow.keras.models import Sequential\n",
    "from tensorflow.keras.layers import LSTM, Dense, Embedding\n",
    "from tensorflow.keras.preprocessing.text import Tokenizer\n",
    "from tensorflow.keras.preprocessing.sequence import pad_sequences\n",
    "\n",
    "# 🔤 Sample training text (You can expand this with more text on any topic)\n",
    "data = \"\"\"Technology is changing the way we live. Artificial Intelligence and Machine Learning are revolutionizing industries. \n",
    "Nature is a beautiful part of Earth. Forests, rivers, and wildlife help maintain balance. \n",
    "Education empowers individuals and helps build societies.\"\"\"\n",
    "\n",
    "# 🧼 Preprocess text\n",
    "tokenizer = Tokenizer()\n",
    "tokenizer.fit_on_texts([data])\n",
    "word_index = tokenizer.word_index\n",
    "total_words = len(word_index) + 1\n",
    "\n",
    "# Create input sequences\n",
    "input_sequences = []\n",
    "for line in data.split('.'):\n",
    "    tokens = tokenizer.texts_to_sequences([line])[0]\n",
    "    for i in range(1, len(tokens)):\n",
    "        n_gram_sequence = tokens[:i+1]\n",
    "        input_sequences.append(n_gram_sequence)\n",
    "\n",
    "# Pad sequences\n",
    "max_seq_len = max([len(seq) for seq in input_sequences])\n",
    "input_sequences = np.array(pad_sequences(input_sequences, maxlen=max_seq_len, padding='pre'))\n",
    "\n",
    "# Split inputs and labels\n",
    "xs = input_sequences[:, :-1]\n",
    "labels = input_sequences[:, -1]\n",
    "ys = tf.keras.utils.to_categorical(labels, num_classes=total_words)\n",
    "\n",
    "# 🏗 Build LSTM model\n",
    "model = Sequential()\n",
    "model.add(Embedding(total_words, 10))\n",
    "model.add(LSTM(64))\n",
    "model.add(Dense(total_words, activation='softmax'))\n",
    "model.compile(loss='categorical_crossentropy', optimizer='adam', metrics=['accuracy'])\n",
    "\n",
    "# 📈 Train model\n",
    "model.fit(xs, ys, epochs=500, verbose=0)\n",
    "\n",
    "# ✍️ Function to generate text\n",
    "def generate_text(seed_text, next_words=10):\n",
    "    for _ in range(next_words):\n",
    "        token_list = tokenizer.texts_to_sequences([seed_text])[0]\n",
    "        token_list = pad_sequences([token_list], maxlen=max_seq_len-1, padding='pre')\n",
    "        predicted = np.argmax(model.predict(token_list, verbose=0), axis=-1)\n",
    "        for word, index in tokenizer.word_index.items():\n",
    "            if index == predicted:\n",
    "                seed_text += \" \" + word\n",
    "                break\n",
    "    return seed_text\n",
    "\n",
    "# 🎯 Example prompts\n",
    "print(\"🧠 Generated text on prompt 'Technology is':\")\n",
    "print(generate_text(\"Technology is\"))\n",
    "\n",
    "print(\"\\n🌿 Generated text on prompt 'Nature is':\")\n",
    "print(generate_text(\"Nature is\"))\n",
    "\n",
    "print(\"\\n📚 Generated text on prompt 'Education helps':\")\n",
    "print(generate_text(\"Education helps\"))\n"
   ]
  }
 ],
 "metadata": {
  "kernelspec": {
   "display_name": "Python 3 (ipykernel)",
   "language": "python",
   "name": "python3"
  },
  "language_info": {
   "codemirror_mode": {
    "name": "ipython",
    "version": 3
   },
   "file_extension": ".py",
   "mimetype": "text/x-python",
   "name": "python",
   "nbconvert_exporter": "python",
   "pygments_lexer": "ipython3",
   "version": "3.12.7"
  }
 },
 "nbformat": 4,
 "nbformat_minor": 5
}
